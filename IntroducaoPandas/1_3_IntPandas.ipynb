{
  "nbformat": 4,
  "nbformat_minor": 0,
  "metadata": {
    "colab": {
      "name": "1.3.IntPandas.ipynb",
      "provenance": []
    },
    "kernelspec": {
      "name": "python3",
      "display_name": "Python 3"
    },
    "language_info": {
      "name": "python"
    }
  },
  "cells": [
    {
      "cell_type": "code",
      "metadata": {
        "id": "zZ_QNEQT8evM"
      },
      "source": [
        "import pandas as pd"
      ],
      "execution_count": 1,
      "outputs": []
    },
    {
      "cell_type": "markdown",
      "metadata": {
        "id": "bbLikzt9AbW9"
      },
      "source": [
        "Com o objetivo de utilizar dados diferentes dos utilizados na aula, irei utilizar os dados da empresa Magazine Luiza, disponibilizados na mesma plataforma do Yahoo Finance, o arquivo _.csv_ foi hospedado no Git Hub."
      ]
    },
    {
      "cell_type": "code",
      "metadata": {
        "id": "0B3wL66V8kNZ"
      },
      "source": [
        "df = pd.read_csv(\"https://raw.githubusercontent.com/EricRaniere/DataScienceNaPratica/main/IntPandasMGLU3SA.csv\")"
      ],
      "execution_count": 5,
      "outputs": []
    },
    {
      "cell_type": "markdown",
      "metadata": {
        "id": "FkaZDsckBH9W"
      },
      "source": [
        "O comando _pd.read__ permite a leitura de diversos tipos de arquivos."
      ]
    },
    {
      "cell_type": "code",
      "metadata": {
        "colab": {
          "base_uri": "https://localhost:8080/"
        },
        "id": "p8iudUl0_m6g",
        "outputId": "7a662263-106b-4a0c-ad81-64faaf6537ff"
      },
      "source": [
        "type(df)"
      ],
      "execution_count": 6,
      "outputs": [
        {
          "output_type": "execute_result",
          "data": {
            "text/plain": [
              "pandas.core.frame.DataFrame"
            ]
          },
          "metadata": {
            "tags": []
          },
          "execution_count": 6
        }
      ]
    },
    {
      "cell_type": "markdown",
      "metadata": {
        "id": "4zi_-xqeBUVY"
      },
      "source": [
        "O comando type, permite identificar qual o tipo de objeto."
      ]
    },
    {
      "cell_type": "code",
      "metadata": {
        "colab": {
          "base_uri": "https://localhost:8080/"
        },
        "id": "N0F2gf7EAQdn",
        "outputId": "55573f21-2d12-4cfa-8814-8b897e210234"
      },
      "source": [
        "type(df['Date'])"
      ],
      "execution_count": 7,
      "outputs": [
        {
          "output_type": "execute_result",
          "data": {
            "text/plain": [
              "pandas.core.series.Series"
            ]
          },
          "metadata": {
            "tags": []
          },
          "execution_count": 7
        }
      ]
    },
    {
      "cell_type": "code",
      "metadata": {
        "colab": {
          "base_uri": "https://localhost:8080/"
        },
        "id": "frTZBsWGAUOI",
        "outputId": "de4b9a4e-3320-473d-acf7-5102a552147b"
      },
      "source": [
        "df.shape"
      ],
      "execution_count": 8,
      "outputs": [
        {
          "output_type": "execute_result",
          "data": {
            "text/plain": [
              "(246, 7)"
            ]
          },
          "metadata": {
            "tags": []
          },
          "execution_count": 8
        }
      ]
    },
    {
      "cell_type": "markdown",
      "metadata": {
        "id": "9C2_gUZGBhfD"
      },
      "source": [
        "O comando _.shape_ permite entender qual o formato do DataFrame(df) selecionado. Nesse caso o _df_ possui 246 linhas e 7 colunas."
      ]
    },
    {
      "cell_type": "code",
      "metadata": {
        "colab": {
          "base_uri": "https://localhost:8080/",
          "height": 204
        },
        "id": "pPF8QiRtB2hU",
        "outputId": "a1795e9b-2719-4752-a489-35a35ca5556c"
      },
      "source": [
        "df.head()"
      ],
      "execution_count": 9,
      "outputs": [
        {
          "output_type": "execute_result",
          "data": {
            "text/html": [
              "<div>\n",
              "<style scoped>\n",
              "    .dataframe tbody tr th:only-of-type {\n",
              "        vertical-align: middle;\n",
              "    }\n",
              "\n",
              "    .dataframe tbody tr th {\n",
              "        vertical-align: top;\n",
              "    }\n",
              "\n",
              "    .dataframe thead th {\n",
              "        text-align: right;\n",
              "    }\n",
              "</style>\n",
              "<table border=\"1\" class=\"dataframe\">\n",
              "  <thead>\n",
              "    <tr style=\"text-align: right;\">\n",
              "      <th></th>\n",
              "      <th>Date</th>\n",
              "      <th>Open</th>\n",
              "      <th>High</th>\n",
              "      <th>Low</th>\n",
              "      <th>Close</th>\n",
              "      <th>Adj Close</th>\n",
              "      <th>Volume</th>\n",
              "    </tr>\n",
              "  </thead>\n",
              "  <tbody>\n",
              "    <tr>\n",
              "      <th>0</th>\n",
              "      <td>2020-08-06</td>\n",
              "      <td>21.000000</td>\n",
              "      <td>21.547501</td>\n",
              "      <td>20.875000</td>\n",
              "      <td>21.477501</td>\n",
              "      <td>21.439608</td>\n",
              "      <td>44079200.0</td>\n",
              "    </tr>\n",
              "    <tr>\n",
              "      <th>1</th>\n",
              "      <td>2020-08-07</td>\n",
              "      <td>21.299999</td>\n",
              "      <td>21.875000</td>\n",
              "      <td>21.084999</td>\n",
              "      <td>21.412500</td>\n",
              "      <td>21.374723</td>\n",
              "      <td>46478800.0</td>\n",
              "    </tr>\n",
              "    <tr>\n",
              "      <th>2</th>\n",
              "      <td>2020-08-10</td>\n",
              "      <td>21.545000</td>\n",
              "      <td>21.575001</td>\n",
              "      <td>20.280001</td>\n",
              "      <td>20.482500</td>\n",
              "      <td>20.446363</td>\n",
              "      <td>61277600.0</td>\n",
              "    </tr>\n",
              "    <tr>\n",
              "      <th>3</th>\n",
              "      <td>2020-08-11</td>\n",
              "      <td>20.674999</td>\n",
              "      <td>20.747499</td>\n",
              "      <td>20.057501</td>\n",
              "      <td>20.247499</td>\n",
              "      <td>20.211777</td>\n",
              "      <td>42669200.0</td>\n",
              "    </tr>\n",
              "    <tr>\n",
              "      <th>4</th>\n",
              "      <td>2020-08-12</td>\n",
              "      <td>20.327499</td>\n",
              "      <td>20.532499</td>\n",
              "      <td>19.799999</td>\n",
              "      <td>20.014999</td>\n",
              "      <td>19.979687</td>\n",
              "      <td>44144400.0</td>\n",
              "    </tr>\n",
              "  </tbody>\n",
              "</table>\n",
              "</div>"
            ],
            "text/plain": [
              "         Date       Open       High  ...      Close  Adj Close      Volume\n",
              "0  2020-08-06  21.000000  21.547501  ...  21.477501  21.439608  44079200.0\n",
              "1  2020-08-07  21.299999  21.875000  ...  21.412500  21.374723  46478800.0\n",
              "2  2020-08-10  21.545000  21.575001  ...  20.482500  20.446363  61277600.0\n",
              "3  2020-08-11  20.674999  20.747499  ...  20.247499  20.211777  42669200.0\n",
              "4  2020-08-12  20.327499  20.532499  ...  20.014999  19.979687  44144400.0\n",
              "\n",
              "[5 rows x 7 columns]"
            ]
          },
          "metadata": {
            "tags": []
          },
          "execution_count": 9
        }
      ]
    },
    {
      "cell_type": "markdown",
      "metadata": {
        "id": "vHpHCTs3B7uV"
      },
      "source": [
        "O comando _.head_ por padrão exibe a visualização das 5 primeiras linhas. Caso seja necessário uma visualização maior deve se colocar um número entre os _()_"
      ]
    },
    {
      "cell_type": "code",
      "metadata": {
        "colab": {
          "base_uri": "https://localhost:8080/",
          "height": 204
        },
        "id": "ZqcS46dWB5La",
        "outputId": "e4e8465e-3d39-4742-b2e2-1bc74e7a4418"
      },
      "source": [
        "df.tail()"
      ],
      "execution_count": 10,
      "outputs": [
        {
          "output_type": "execute_result",
          "data": {
            "text/html": [
              "<div>\n",
              "<style scoped>\n",
              "    .dataframe tbody tr th:only-of-type {\n",
              "        vertical-align: middle;\n",
              "    }\n",
              "\n",
              "    .dataframe tbody tr th {\n",
              "        vertical-align: top;\n",
              "    }\n",
              "\n",
              "    .dataframe thead th {\n",
              "        text-align: right;\n",
              "    }\n",
              "</style>\n",
              "<table border=\"1\" class=\"dataframe\">\n",
              "  <thead>\n",
              "    <tr style=\"text-align: right;\">\n",
              "      <th></th>\n",
              "      <th>Date</th>\n",
              "      <th>Open</th>\n",
              "      <th>High</th>\n",
              "      <th>Low</th>\n",
              "      <th>Close</th>\n",
              "      <th>Adj Close</th>\n",
              "      <th>Volume</th>\n",
              "    </tr>\n",
              "  </thead>\n",
              "  <tbody>\n",
              "    <tr>\n",
              "      <th>241</th>\n",
              "      <td>2021-07-30</td>\n",
              "      <td>21.440001</td>\n",
              "      <td>21.700001</td>\n",
              "      <td>20.549999</td>\n",
              "      <td>20.600000</td>\n",
              "      <td>20.600000</td>\n",
              "      <td>30461200.0</td>\n",
              "    </tr>\n",
              "    <tr>\n",
              "      <th>242</th>\n",
              "      <td>2021-08-02</td>\n",
              "      <td>20.910000</td>\n",
              "      <td>21.070000</td>\n",
              "      <td>20.559999</td>\n",
              "      <td>20.629999</td>\n",
              "      <td>20.629999</td>\n",
              "      <td>23874900.0</td>\n",
              "    </tr>\n",
              "    <tr>\n",
              "      <th>243</th>\n",
              "      <td>2021-08-03</td>\n",
              "      <td>20.600000</td>\n",
              "      <td>20.650000</td>\n",
              "      <td>19.719999</td>\n",
              "      <td>20.430000</td>\n",
              "      <td>20.430000</td>\n",
              "      <td>18984200.0</td>\n",
              "    </tr>\n",
              "    <tr>\n",
              "      <th>244</th>\n",
              "      <td>2021-08-04</td>\n",
              "      <td>20.290001</td>\n",
              "      <td>20.320000</td>\n",
              "      <td>19.719999</td>\n",
              "      <td>19.959999</td>\n",
              "      <td>19.959999</td>\n",
              "      <td>27526900.0</td>\n",
              "    </tr>\n",
              "    <tr>\n",
              "      <th>245</th>\n",
              "      <td>2021-08-05</td>\n",
              "      <td>0.000000</td>\n",
              "      <td>0.000000</td>\n",
              "      <td>0.000000</td>\n",
              "      <td>20.459999</td>\n",
              "      <td>20.459999</td>\n",
              "      <td>0.0</td>\n",
              "    </tr>\n",
              "  </tbody>\n",
              "</table>\n",
              "</div>"
            ],
            "text/plain": [
              "           Date       Open       High  ...      Close  Adj Close      Volume\n",
              "241  2021-07-30  21.440001  21.700001  ...  20.600000  20.600000  30461200.0\n",
              "242  2021-08-02  20.910000  21.070000  ...  20.629999  20.629999  23874900.0\n",
              "243  2021-08-03  20.600000  20.650000  ...  20.430000  20.430000  18984200.0\n",
              "244  2021-08-04  20.290001  20.320000  ...  19.959999  19.959999  27526900.0\n",
              "245  2021-08-05   0.000000   0.000000  ...  20.459999  20.459999         0.0\n",
              "\n",
              "[5 rows x 7 columns]"
            ]
          },
          "metadata": {
            "tags": []
          },
          "execution_count": 10
        }
      ]
    },
    {
      "cell_type": "markdown",
      "metadata": {
        "id": "rLeUUZqfCcxW"
      },
      "source": [
        "O comando _.tail_ por padrão exibe a visualização das 5 últimas linhas. Caso seja necessário uma visualização maior deve se colocar um número entre os _()_"
      ]
    },
    {
      "cell_type": "code",
      "metadata": {
        "colab": {
          "base_uri": "https://localhost:8080/"
        },
        "id": "ui3mKmLMCav7",
        "outputId": "e0963aed-2b65-4197-bff2-7928aa609847"
      },
      "source": [
        "df.columns"
      ],
      "execution_count": 11,
      "outputs": [
        {
          "output_type": "execute_result",
          "data": {
            "text/plain": [
              "Index(['Date', 'Open', 'High', 'Low', 'Close', 'Adj Close', 'Volume'], dtype='object')"
            ]
          },
          "metadata": {
            "tags": []
          },
          "execution_count": 11
        }
      ]
    },
    {
      "cell_type": "markdown",
      "metadata": {
        "id": "UrzWpMkxCu3P"
      },
      "source": [
        "Com o comando _.columns_ é possível extrair apenas os nomes das colunas do _df_"
      ]
    },
    {
      "cell_type": "code",
      "metadata": {
        "colab": {
          "base_uri": "https://localhost:8080/"
        },
        "id": "Q1Gx6DNQCtPA",
        "outputId": "93725c4b-49b6-4984-b052-804e22342186"
      },
      "source": [
        "df.dtypes"
      ],
      "execution_count": 12,
      "outputs": [
        {
          "output_type": "execute_result",
          "data": {
            "text/plain": [
              "Date          object\n",
              "Open         float64\n",
              "High         float64\n",
              "Low          float64\n",
              "Close        float64\n",
              "Adj Close    float64\n",
              "Volume       float64\n",
              "dtype: object"
            ]
          },
          "metadata": {
            "tags": []
          },
          "execution_count": 12
        }
      ]
    },
    {
      "cell_type": "markdown",
      "metadata": {
        "id": "dvgSBZZODFek"
      },
      "source": [
        "Com o comando _.dtypes_ é possível conhecer quais as váriaveis compôe o _df_"
      ]
    },
    {
      "cell_type": "code",
      "metadata": {
        "colab": {
          "base_uri": "https://localhost:8080/"
        },
        "id": "pFSsEyQHDD_i",
        "outputId": "4de0de94-28df-4ed3-f67d-cdd5eead3a80"
      },
      "source": [
        "df.info()"
      ],
      "execution_count": 13,
      "outputs": [
        {
          "output_type": "stream",
          "text": [
            "<class 'pandas.core.frame.DataFrame'>\n",
            "RangeIndex: 246 entries, 0 to 245\n",
            "Data columns (total 7 columns):\n",
            " #   Column     Non-Null Count  Dtype  \n",
            "---  ------     --------------  -----  \n",
            " 0   Date       246 non-null    object \n",
            " 1   Open       245 non-null    float64\n",
            " 2   High       245 non-null    float64\n",
            " 3   Low        245 non-null    float64\n",
            " 4   Close      245 non-null    float64\n",
            " 5   Adj Close  245 non-null    float64\n",
            " 6   Volume     245 non-null    float64\n",
            "dtypes: float64(6), object(1)\n",
            "memory usage: 13.6+ KB\n"
          ],
          "name": "stdout"
        }
      ]
    },
    {
      "cell_type": "markdown",
      "metadata": {
        "id": "LrtvpWQnDclo"
      },
      "source": [
        "Outra forma de verificar o formato das váriaveis é o _.info()_. Um diferencial desse comando é a contagem de células não nulas, _non-null_ e o uso de memória do _df_"
      ]
    },
    {
      "cell_type": "code",
      "metadata": {
        "colab": {
          "base_uri": "https://localhost:8080/"
        },
        "id": "Z_5pJjU8DYBn",
        "outputId": "41a6cc9c-2784-4b3e-f905-9069428245ef"
      },
      "source": [
        "# selecionar a variável (coluna) \"High\" da nossa variável df\n",
        "df['High']"
      ],
      "execution_count": 14,
      "outputs": [
        {
          "output_type": "execute_result",
          "data": {
            "text/plain": [
              "0      21.547501\n",
              "1      21.875000\n",
              "2      21.575001\n",
              "3      20.747499\n",
              "4      20.532499\n",
              "         ...    \n",
              "241    21.700001\n",
              "242    21.070000\n",
              "243    20.650000\n",
              "244    20.320000\n",
              "245     0.000000\n",
              "Name: High, Length: 246, dtype: float64"
            ]
          },
          "metadata": {
            "tags": []
          },
          "execution_count": 14
        }
      ]
    },
    {
      "cell_type": "code",
      "metadata": {
        "colab": {
          "base_uri": "https://localhost:8080/"
        },
        "id": "BfJZSVLbEVn3",
        "outputId": "c4365bfc-e904-49ce-d2bc-2a4ee55f1abf"
      },
      "source": [
        "# outra forma de utilização seria com df.High\n",
        "df.High"
      ],
      "execution_count": 15,
      "outputs": [
        {
          "output_type": "execute_result",
          "data": {
            "text/plain": [
              "0      21.547501\n",
              "1      21.875000\n",
              "2      21.575001\n",
              "3      20.747499\n",
              "4      20.532499\n",
              "         ...    \n",
              "241    21.700001\n",
              "242    21.070000\n",
              "243    20.650000\n",
              "244    20.320000\n",
              "245     0.000000\n",
              "Name: High, Length: 246, dtype: float64"
            ]
          },
          "metadata": {
            "tags": []
          },
          "execution_count": 15
        }
      ]
    },
    {
      "cell_type": "markdown",
      "metadata": {
        "id": "OUJ7fbSLFAXQ"
      },
      "source": [
        "Seguindo esse forma podemos ter diversas visualizações estatísticas interessantes."
      ]
    },
    {
      "cell_type": "code",
      "metadata": {
        "colab": {
          "base_uri": "https://localhost:8080/"
        },
        "id": "yL1vWqduEpZk",
        "outputId": "8e1a8484-c357-4acb-b65a-a6570ae8198e"
      },
      "source": [
        "print('média', df.High.mean())\n",
        "print('mediana', df.High.median())\n",
        "print('máximo', df.High.max())\n",
        "print('mínimo', df.High.min())"
      ],
      "execution_count": 31,
      "outputs": [
        {
          "output_type": "stream",
          "text": [
            "média 23.1125101632653\n",
            "mediana 22.945\n",
            "máximo 28.309998999999998\n",
            "minimo 0.0\n"
          ],
          "name": "stdout"
        }
      ]
    },
    {
      "cell_type": "markdown",
      "metadata": {
        "id": "6JtS-m9hGUje"
      },
      "source": [
        "Uma utilização muito interessante do Pandas é a análise de dados de datas. "
      ]
    },
    {
      "cell_type": "code",
      "metadata": {
        "colab": {
          "base_uri": "https://localhost:8080/"
        },
        "id": "004EbuPoFbDS",
        "outputId": "40cf3d30-6589-44bd-ff9d-d90c0ed0e816"
      },
      "source": [
        "df.Date"
      ],
      "execution_count": 32,
      "outputs": [
        {
          "output_type": "execute_result",
          "data": {
            "text/plain": [
              "0      2020-08-06\n",
              "1      2020-08-07\n",
              "2      2020-08-10\n",
              "3      2020-08-11\n",
              "4      2020-08-12\n",
              "          ...    \n",
              "241    2021-07-30\n",
              "242    2021-08-02\n",
              "243    2021-08-03\n",
              "244    2021-08-04\n",
              "245    2021-08-05\n",
              "Name: Date, Length: 246, dtype: object"
            ]
          },
          "metadata": {
            "tags": []
          },
          "execution_count": 32
        }
      ]
    },
    {
      "cell_type": "markdown",
      "metadata": {
        "id": "czAWkfrJG1ww"
      },
      "source": [
        "Como vimos antes, há a necessidade de converter o formato da coluna de _object_ para _datetime_"
      ]
    },
    {
      "cell_type": "code",
      "metadata": {
        "id": "eXenAc3CGzhg"
      },
      "source": [
        "df.Date = pd.to_datetime(df.Date, format='%Y-%m-%d')"
      ],
      "execution_count": 33,
      "outputs": []
    },
    {
      "cell_type": "code",
      "metadata": {
        "colab": {
          "base_uri": "https://localhost:8080/"
        },
        "id": "FohFNJziHMUY",
        "outputId": "d0f7ac90-5f7d-49fd-b88d-dbcb381d819f"
      },
      "source": [
        "df.Date"
      ],
      "execution_count": 35,
      "outputs": [
        {
          "output_type": "execute_result",
          "data": {
            "text/plain": [
              "0     2020-08-06\n",
              "1     2020-08-07\n",
              "2     2020-08-10\n",
              "3     2020-08-11\n",
              "4     2020-08-12\n",
              "         ...    \n",
              "241   2021-07-30\n",
              "242   2021-08-02\n",
              "243   2021-08-03\n",
              "244   2021-08-04\n",
              "245   2021-08-05\n",
              "Name: Date, Length: 246, dtype: datetime64[ns]"
            ]
          },
          "metadata": {
            "tags": []
          },
          "execution_count": 35
        }
      ]
    },
    {
      "cell_type": "markdown",
      "metadata": {
        "id": "a3FW8yTjHR1C"
      },
      "source": [
        "Depois da conversão para o formato _datetime_ é possível realizar análises específicas dessa categoria de variável."
      ]
    },
    {
      "cell_type": "code",
      "metadata": {
        "colab": {
          "base_uri": "https://localhost:8080/"
        },
        "id": "nD4na1I8HONW",
        "outputId": "f0b54bee-2626-4eeb-d303-eb689bbfc3e4"
      },
      "source": [
        "# visualização dos anos somente\n",
        "df.Date.dt.year"
      ],
      "execution_count": 41,
      "outputs": [
        {
          "output_type": "execute_result",
          "data": {
            "text/plain": [
              "0      2020\n",
              "1      2020\n",
              "2      2020\n",
              "3      2020\n",
              "4      2020\n",
              "       ... \n",
              "241    2021\n",
              "242    2021\n",
              "243    2021\n",
              "244    2021\n",
              "245    2021\n",
              "Name: Date, Length: 246, dtype: int64"
            ]
          },
          "metadata": {
            "tags": []
          },
          "execution_count": 41
        }
      ]
    },
    {
      "cell_type": "code",
      "metadata": {
        "colab": {
          "base_uri": "https://localhost:8080/"
        },
        "id": "vZKpECslHpZG",
        "outputId": "4de822b0-3fd2-4fcb-fa56-159c64b2275c"
      },
      "source": [
        "# visualização dos meses somente\n",
        "df.Date.dt.month"
      ],
      "execution_count": 42,
      "outputs": [
        {
          "output_type": "execute_result",
          "data": {
            "text/plain": [
              "0      8\n",
              "1      8\n",
              "2      8\n",
              "3      8\n",
              "4      8\n",
              "      ..\n",
              "241    7\n",
              "242    8\n",
              "243    8\n",
              "244    8\n",
              "245    8\n",
              "Name: Date, Length: 246, dtype: int64"
            ]
          },
          "metadata": {
            "tags": []
          },
          "execution_count": 42
        }
      ]
    },
    {
      "cell_type": "code",
      "metadata": {
        "colab": {
          "base_uri": "https://localhost:8080/"
        },
        "id": "m_0vNio_IFWk",
        "outputId": "5b05abe6-5731-4070-a55c-b5267219bf41"
      },
      "source": [
        "# visualização dos dias somente\n",
        "df.Date.dt.day"
      ],
      "execution_count": 43,
      "outputs": [
        {
          "output_type": "execute_result",
          "data": {
            "text/plain": [
              "0       6\n",
              "1       7\n",
              "2      10\n",
              "3      11\n",
              "4      12\n",
              "       ..\n",
              "241    30\n",
              "242     2\n",
              "243     3\n",
              "244     4\n",
              "245     5\n",
              "Name: Date, Length: 246, dtype: int64"
            ]
          },
          "metadata": {
            "tags": []
          },
          "execution_count": 43
        }
      ]
    },
    {
      "cell_type": "code",
      "metadata": {
        "id": "NkMs22qOIK9c"
      },
      "source": [
        ""
      ],
      "execution_count": null,
      "outputs": []
    }
  ]
}